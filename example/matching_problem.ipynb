{
 "cells": [
  {
   "cell_type": "code",
   "execution_count": 2,
   "metadata": {},
   "outputs": [
    {
     "name": "stdout",
     "output_type": "stream",
     "text": [
      "Status Optimal\n",
      "[0.0, 0.0, 1.0, 0.0, 0.0]\n",
      "[1.0, 0.0, 0.0, 0.0, 0.0]\n",
      "[0.0, 1.0, 0.0, 0.0, 0.0]\n",
      "[0.0, 0.0, 0.0, 0.0, 1.0]\n",
      "[0.0, 0.0, 0.0, 1.0, 0.0]\n",
      "12.0\n"
     ]
    }
   ],
   "source": [
    "import pulp\n",
    "\n",
    "#      a  b  c  d  e\n",
    "ps = [[9, 5, 1, 9, 7],  # A\n",
    "      [2, 8, 2, 7, 5],  # B\n",
    "      [1, 3, 9, 5, 9],  # C\n",
    "      [8, 7, 2, 6, 4],  # D\n",
    "      [2, 3, 6, 2, 8]]  # E\n",
    "\n",
    "def solver(ws):\n",
    "    prob = pulp.LpProblem('assignment')\n",
    "    # 変数\n",
    "    xs = []\n",
    "    for i in range(len(ws)):\n",
    "        xs1 = [pulp.LpVariable('x_{}_{}'.format(i, j), cat='Binary') for j in range(len(ws))]\n",
    "        xs.append(xs1)\n",
    "\n",
    "    # 目的関数\n",
    "    prob += pulp.lpSum([pulp.lpDot(ws[i], xs[i]) for i in range(len(ws))])\n",
    "\n",
    "    # 制約\n",
    "    for i in range(len(ws)):\n",
    "        prob += pulp.lpSum(xs[i]) == 1                               # 作業員iに、1つの仕事\n",
    "        prob += pulp.lpSum([xs[j][i] for j in range(len(ws))]) == 1  # 作業jには、1人の作業員\n",
    "    \n",
    "    # 探索開始\n",
    "    status = prob.solve(pulp.PULP_CBC_CMD(msg=0))\n",
    "    print(\"Status\", pulp.LpStatus[status])\n",
    "    for xs1 in xs:\n",
    "        print([x.value() for x in xs1])\n",
    "    print(prob.objective.value())\n",
    "\n",
    "# 実行\n",
    "solver(ps)"
   ]
  }
 ],
 "metadata": {
  "interpreter": {
   "hash": "4896a37015697be3bc8eccdf7db3848e5e49543a580fe4acd1a6f82dd95e6f18"
  },
  "kernelspec": {
   "display_name": "Python 3.10.1 64-bit ('3.10.1')",
   "language": "python",
   "name": "python3"
  },
  "language_info": {
   "codemirror_mode": {
    "name": "ipython",
    "version": 3
   },
   "file_extension": ".py",
   "mimetype": "text/x-python",
   "name": "python",
   "nbconvert_exporter": "python",
   "pygments_lexer": "ipython3",
   "version": "3.10.1"
  },
  "orig_nbformat": 4
 },
 "nbformat": 4,
 "nbformat_minor": 2
}
